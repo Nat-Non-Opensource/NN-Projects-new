{
 "cells": [
  {
   "cell_type": "markdown",
   "metadata": {},
   "source": [
    "# Convert from Excel to SQLite 3"
   ]
  },
  {
   "cell_type": "markdown",
   "metadata": {},
   "source": [
    "## Or|"
   ]
  },
  {
   "cell_type": "markdown",
   "metadata": {},
   "source": [
    "# Viewing data from Excel"
   ]
  },
  {
   "cell_type": "markdown",
   "metadata": {},
   "source": [
    "### 1. Install Libraries"
   ]
  },
  {
   "cell_type": "code",
   "execution_count": 1,
   "metadata": {},
   "outputs": [
    {
     "output_type": "stream",
     "name": "stdout",
     "text": "Requirement already satisfied: pandas in c:\\users\\pawat\\nn-projects_new\\venv\\lib\\site-packages (1.0.4)\nRequirement already satisfied: pytz>=2017.2 in c:\\users\\pawat\\nn-projects_new\\venv\\lib\\site-packages (from pandas) (2020.1)\nRequirement already satisfied: python-dateutil>=2.6.1 in c:\\users\\pawat\\nn-projects_new\\venv\\lib\\site-packages (from pandas) (2.8.1)\nRequirement already satisfied: numpy>=1.13.3 in c:\\users\\pawat\\nn-projects_new\\venv\\lib\\site-packages (from pandas) (1.18.5)\nRequirement already satisfied: six>=1.5 in c:\\users\\pawat\\nn-projects_new\\venv\\lib\\site-packages (from python-dateutil>=2.6.1->pandas) (1.15.0)\nRequirement already satisfied: xlrd in c:\\users\\pawat\\nn-projects_new\\venv\\lib\\site-packages (1.2.0)\n"
    }
   ],
   "source": [
    "# For convert Excel to data\n",
    "!pip install pandas\n",
    "\n",
    "# Dependencies of pandas to read or write excel\n",
    "!pip install xlrd"
   ]
  },
  {
   "cell_type": "markdown",
   "metadata": {},
   "source": [
    "### 2. Disable Async Unsafe"
   ]
  },
  {
   "cell_type": "code",
   "execution_count": 2,
   "metadata": {},
   "outputs": [],
   "source": [
    "import os\n",
    "\n",
    "os.environ[\"DJANGO_ALLOW_ASYNC_UNSAFE\"] = \"true\""
   ]
  },
  {
   "cell_type": "markdown",
   "metadata": {},
   "source": [
    "### 3. Import the libraries"
   ]
  },
  {
   "cell_type": "code",
   "execution_count": 3,
   "metadata": {},
   "outputs": [],
   "source": [
    "import pandas as pd"
   ]
  },
  {
   "cell_type": "markdown",
   "metadata": {},
   "source": [
    "### 4. Reading and Import excel"
   ]
  },
  {
   "cell_type": "code",
   "execution_count": 4,
   "metadata": {},
   "outputs": [],
   "source": [
    "df = pd.read_excel('./map.xlsx')"
   ]
  },
  {
   "cell_type": "markdown",
   "metadata": {},
   "source": [
    "### 5. View a excel"
   ]
  },
  {
   "cell_type": "code",
   "execution_count": 5,
   "metadata": {},
   "outputs": [
    {
     "output_type": "execute_result",
     "data": {
      "text/plain": "                         Location   Latitude  Longitude  \\\n0                 North Gate Jazz  18.795209  98.987009   \n1     Old Chiangmai: food for all  18.771710  98.987009   \n2                  Food 4 Thought  18.806176  98.986379   \n3       ร้านข้าวมันไก่เกียรติโอชา  18.789726  98.979963   \n4  Accha Authentic Indian Cuisine  18.798658  99.004070   \n\n                                        Descriptions Category  Active  \n0  วัน: 24/3 จนถึง ไม่ระบุ\\nเวลา: 16:00 จนหมด หรื...  covid19       1  \n1  วัน: 30/3 จนกว่างบหมด\\nเวลา: 16:00 เป็นต้นไป\\n...  covid19       1  \n2  วัน: 29/3 - ไม่ระบุ\\nเวลา: 11:00-14:00, 17:00 ...  covid19       1  \n3  วัน: เริ่ม จันทร์ 30 มีนาคม - ศุกร์ 3 เมษายน 6...  covid19       0  \n4  วัน: 27-31/3\\nเวลา: 11:00 - 18:00\\nทานน้ำใจ: ข...  covid19       0  ",
      "text/html": "<div>\n<style scoped>\n    .dataframe tbody tr th:only-of-type {\n        vertical-align: middle;\n    }\n\n    .dataframe tbody tr th {\n        vertical-align: top;\n    }\n\n    .dataframe thead th {\n        text-align: right;\n    }\n</style>\n<table border=\"1\" class=\"dataframe\">\n  <thead>\n    <tr style=\"text-align: right;\">\n      <th></th>\n      <th>Location</th>\n      <th>Latitude</th>\n      <th>Longitude</th>\n      <th>Descriptions</th>\n      <th>Category</th>\n      <th>Active</th>\n    </tr>\n  </thead>\n  <tbody>\n    <tr>\n      <th>0</th>\n      <td>North Gate Jazz</td>\n      <td>18.795209</td>\n      <td>98.987009</td>\n      <td>วัน: 24/3 จนถึง ไม่ระบุ\\nเวลา: 16:00 จนหมด หรื...</td>\n      <td>covid19</td>\n      <td>1</td>\n    </tr>\n    <tr>\n      <th>1</th>\n      <td>Old Chiangmai: food for all</td>\n      <td>18.771710</td>\n      <td>98.987009</td>\n      <td>วัน: 30/3 จนกว่างบหมด\\nเวลา: 16:00 เป็นต้นไป\\n...</td>\n      <td>covid19</td>\n      <td>1</td>\n    </tr>\n    <tr>\n      <th>2</th>\n      <td>Food 4 Thought</td>\n      <td>18.806176</td>\n      <td>98.986379</td>\n      <td>วัน: 29/3 - ไม่ระบุ\\nเวลา: 11:00-14:00, 17:00 ...</td>\n      <td>covid19</td>\n      <td>1</td>\n    </tr>\n    <tr>\n      <th>3</th>\n      <td>ร้านข้าวมันไก่เกียรติโอชา</td>\n      <td>18.789726</td>\n      <td>98.979963</td>\n      <td>วัน: เริ่ม จันทร์ 30 มีนาคม - ศุกร์ 3 เมษายน 6...</td>\n      <td>covid19</td>\n      <td>0</td>\n    </tr>\n    <tr>\n      <th>4</th>\n      <td>Accha Authentic Indian Cuisine</td>\n      <td>18.798658</td>\n      <td>99.004070</td>\n      <td>วัน: 27-31/3\\nเวลา: 11:00 - 18:00\\nทานน้ำใจ: ข...</td>\n      <td>covid19</td>\n      <td>0</td>\n    </tr>\n  </tbody>\n</table>\n</div>"
     },
     "metadata": {},
     "execution_count": 5
    }
   ],
   "source": [
    "df.head()"
   ]
  },
  {
   "cell_type": "code",
   "execution_count": null,
   "metadata": {},
   "outputs": [],
   "source": [
    "# If write to database, uncomment a \"save = True\"\n",
    "# If view a database, uncomment a \"save = False\"\n",
    "\n",
    "# save = True\n",
    "save = False\n",
    "\n",
    "# Import the database, If write to the database\n",
    "if save == True:\n",
    "    from mapapi.models import Map"
   ]
  },
  {
   "cell_type": "code",
   "execution_count": null,
   "metadata": {},
   "outputs": [],
   "source": [
    "if save == True:\n",
    "    for idx, item in df.iterrows(): \n",
    "        m = Map(place_name=item.Location, place_categories=item.Category, place_description=item.Descriptions, place_enable=item.Active, place_longitude=item.Longitude, place_latitude=item.Latitude)\n",
    "        m.save()\n",
    "else:\n",
    "    for idx, item in df.iterrows():\n",
    "        print(\"Name: \" + str(m.place_name))\n",
    "        print(\"Category: \" + str(m.place_categories))\n",
    "        print(\"Active: \" + str(bool(m.place_enable)))\n",
    "        print(\"Descriptions: \" + str(m.place_enable))\n",
    "        print(\"Latitude: \" + str(m.place_latitude))\n",
    "        print(\"Longitude: \" + str(m.place_longitude))\n",
    "        print(\"\\n --------------------------------------------------------- \\n\")"
   ]
  },
  {
   "cell_type": "markdown",
   "metadata": {},
   "source": [
    "### Markdown + Code"
   ]
  }
 ],
 "metadata": {
  "kernelspec": {
   "display_name": "Python 3.7.7 64-bit ('venv': venv)",
   "language": "python",
   "name": "python37764bitvenvvenv6e5e0fca871e4bfbab025370f81eb696"
  },
  "language_info": {
   "codemirror_mode": {
    "name": "ipython",
    "version": 3
   },
   "file_extension": ".py",
   "mimetype": "text/x-python",
   "name": "python",
   "nbconvert_exporter": "python",
   "pygments_lexer": "ipython3",
   "version": "3.7.7-final"
  }
 },
 "nbformat": 4,
 "nbformat_minor": 4
}